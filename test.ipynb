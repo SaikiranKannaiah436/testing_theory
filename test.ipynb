{
 "cells": [
  {
   "cell_type": "code",
   "execution_count": 1,
   "metadata": {},
   "outputs": [],
   "source": [
    "import os\n",
    "import xml.etree.ElementTree as etree\n",
    "import matplotlib.pyplot as plt\n",
    "%matplotlib inline"
   ]
  },
  {
   "cell_type": "code",
   "execution_count": 2,
   "metadata": {},
   "outputs": [
    {
     "data": {
      "text/plain": [
       "['cat',\n",
       " 'motorbike',\n",
       " 'car',\n",
       " 'aeroplane',\n",
       " 'chair',\n",
       " 'sofa',\n",
       " 'dog',\n",
       " 'diningtable',\n",
       " 'bicycle',\n",
       " 'train',\n",
       " 'tvmonitor',\n",
       " 'bottle',\n",
       " 'person',\n",
       " 'bird']"
      ]
     },
     "execution_count": 2,
     "metadata": {},
     "output_type": "execute_result"
    }
   ],
   "source": [
    "actual_classes = os.listdir('./backup_bbox/images/')\n",
    "actual_classes"
   ]
  },
  {
   "cell_type": "code",
   "execution_count": 3,
   "metadata": {},
   "outputs": [
    {
     "data": {
      "text/plain": [
       "'cat'"
      ]
     },
     "execution_count": 3,
     "metadata": {},
     "output_type": "execute_result"
    }
   ],
   "source": [
    "actual_classes[0]"
   ]
  },
  {
   "cell_type": "code",
   "execution_count": 47,
   "metadata": {},
   "outputs": [],
   "source": [
    "true_data_path = './bbox_dataset/annotations/'\n",
    "all_annots = os.listdir(true_data_path)\n",
    "na_files = []\n",
    "for each_annot in all_annots:\n",
    "    path = true_data_path + each_annot\n",
    "    xml_file = etree.parse(path)\n",
    "    root = xml_file.getroot()\n",
    "    for obj in root.iter('object'):\n",
    "        cls = obj.find('name').text\n",
    "        if cls not in actual_classes:\n",
    "            fname = each_annot.split('.')[0]\n",
    "            na_files.append(fname)\n",
    "        else:\n",
    "            continue"
   ]
  },
  {
   "cell_type": "code",
   "execution_count": 48,
   "metadata": {},
   "outputs": [
    {
     "data": {
      "text/plain": [
       "0"
      ]
     },
     "execution_count": 48,
     "metadata": {},
     "output_type": "execute_result"
    }
   ],
   "source": [
    "len(na_files)"
   ]
  },
  {
   "cell_type": "code",
   "execution_count": 49,
   "metadata": {},
   "outputs": [
    {
     "data": {
      "text/plain": [
       "(6958, 6958)"
      ]
     },
     "execution_count": 49,
     "metadata": {},
     "output_type": "execute_result"
    }
   ],
   "source": [
    "len(os.listdir('./bbox_dataset/images/')), len(os.listdir('./bbox_dataset/annotations/'))"
   ]
  },
  {
   "cell_type": "code",
   "execution_count": 46,
   "metadata": {},
   "outputs": [],
   "source": [
    "imgs_path = './bbox_dataset/images/'\n",
    "annot_path = './bbox_dataset/annotations/'\n",
    "for each_file in na_files:\n",
    "    img_file = os.path.join(imgs_path, each_file+'.jpg')\n",
    "    annot_file = os.path.join(annot_path, each_file+'.xml')\n",
    "    if os.path.exists(img_file) and os.path.exists(annot_file):\n",
    "        os.remove(img_file)\n",
    "        os.remove(annot_file)\n",
    "        na_files.remove(each_file)\n",
    "    else:\n",
    "        print(each_file)"
   ]
  },
  {
   "cell_type": "code",
   "execution_count": 34,
   "metadata": {},
   "outputs": [],
   "source": [
    "def plot_dict(dict_name):\n",
    "    keys = [each_num for each_num in range(0, len(dict_name.keys()))]\n",
    "    values = [len(each_list) for each_list in dict_name.values()]\n",
    "    plt.figure(figsize=(20, 10))\n",
    "    rects = plt.bar(keys, values, align='center')\n",
    "    autolabel(rects)\n",
    "    plt.xticks(keys, dict_name.keys())\n",
    "    \n",
    "def autolabel(rects):\n",
    "    \"\"\"\n",
    "    Attach a text label above each bar displaying its height\n",
    "    \"\"\"\n",
    "    for rect in rects:\n",
    "        height = rect.get_height()\n",
    "        plt.text(rect.get_x() + rect.get_width()/2., 1.0*height,'%d' % int(height),ha='center', va='bottom')\n",
    "\n",
    "def get_class_distrib(top_level_direc, plot=False):\n",
    "    classes = {}\n",
    "    dirs = os.listdir(top_level_direc)\n",
    "    for each_dir in dirs:\n",
    "        full_path = os.path.join(top_level_direc, each_dir)\n",
    "        class_count = len(os.listdir(full_path))\n",
    "        classes[each_dir] = class_count\n",
    "    if plot:\n",
    "        plt.figure(figsize=(20, 8))\n",
    "        x, y = list(classes.keys()), list(classes.values())\n",
    "        x_dummy = range(len(x))\n",
    "        rects = plt.bar(x_dummy, y, align='center')\n",
    "        autolabel(rects)\n",
    "        plt.xticks(x_dummy, x)\n",
    "        plt.show()\n",
    "    return classes"
   ]
  },
  {
   "cell_type": "code",
   "execution_count": 32,
   "metadata": {},
   "outputs": [
    {
     "data": {
      "image/png": "[encoded data removed]",
      "text/plain": [
       "<matplotlib.figure.Figure at 0x7f4509ef4eb8>"
      ]
     },
     "metadata": {},
     "output_type": "display_data"
    }
   ],
   "source": [
    "plot_dict(na_files)"
   ]
  },
  {
   "cell_type": "code",
   "execution_count": 33,
   "metadata": {},
   "outputs": [],
   "source": [
    "# removing these files with more than one object\n",
    "\n",
    "img_path = './bbox_dataset/images/'\n",
    "annot_path = './bbox_dataset/annotations/'\n",
    "for each_class, files in na_files.items():\n",
    "    cmp_img_path = os.path.join(img_path, each_class)\n",
    "    cmp_annot_path = os.path.join(annot_path, each_class)\n",
    "    for each_file in files:\n",
    "        fname = each_file.split('.')[0]\n",
    "        os.remove(os.path.join(cmp_img_path, fname + '.jpg'))\n",
    "        os.remove(os.path.join(cmp_annot_path, fname + '.xml'))"
   ]
  },
  {
   "cell_type": "code",
   "execution_count": 36,
   "metadata": {},
   "outputs": [
    {
     "data": {
      "image/png": "[encoded data removed]",
      "text/plain": [
       "<matplotlib.figure.Figure at 0x7f45096cdc18>"
      ]
     },
     "metadata": {},
     "output_type": "display_data"
    },
    {
     "data": {
      "text/plain": [
       "{'aeroplane': 530,\n",
       " 'bicycle': 420,\n",
       " 'bird': 594,\n",
       " 'boat': 310,\n",
       " 'bottle': 464,\n",
       " 'bus': 289,\n",
       " 'car': 682,\n",
       " 'cat': 962,\n",
       " 'chair': 539,\n",
       " 'cow': 140,\n",
       " 'diningtable': 482,\n",
       " 'dog': 1094,\n",
       " 'horse': 319,\n",
       " 'motorbike': 394,\n",
       " 'person': 1959,\n",
       " 'pottedplant': 315,\n",
       " 'sheep': 129,\n",
       " 'sofa': 433,\n",
       " 'train': 456,\n",
       " 'tvmonitor': 464}"
      ]
     },
     "execution_count": 36,
     "metadata": {},
     "output_type": "execute_result"
    }
   ],
   "source": [
    "get_class_distrib('./bbox_dataset/images/', plot=True)"
   ]
  },
  {
   "cell_type": "code",
   "execution_count": 8,
   "metadata": {},
   "outputs": [],
   "source": [
    "import numpy as np"
   ]
  },
  {
   "cell_type": "code",
   "execution_count": 3,
   "metadata": {},
   "outputs": [
    {
     "name": "stderr",
     "output_type": "stream",
     "text": [
      "Using TensorFlow backend.\n"
     ]
    }
   ],
   "source": [
    "#after getting to know the class distribution, wanted a batch generator which would fetch files\n",
    "\n",
    "train_image_folder = './bbox_dataset/images/'\n",
    "train_annot_folder = './bbox_dataset/annotations/'\n",
    "\n",
    "from preprocessing import parse_annotation, BatchGenerator"
   ]
  },
  {
   "cell_type": "code",
   "execution_count": 50,
   "metadata": {},
   "outputs": [],
   "source": [
    "LABELS = ['aeroplane', 'bicycle', 'bird', 'bottle', 'car', 'cat', 'chair', 'diningtable', 'dog', 'motorbike', 'person',\n",
    "         'sofa', 'train', 'tvmonitor']"
   ]
  },
  {
   "cell_type": "code",
   "execution_count": 51,
   "metadata": {},
   "outputs": [],
   "source": [
    "train_imgs, seen_train_labels = parse_annotation(train_annot_folder, train_image_folder, labels=LABELS)"
   ]
  },
  {
   "cell_type": "code",
   "execution_count": 53,
   "metadata": {},
   "outputs": [
    {
     "data": {
      "text/plain": [
       "6958"
      ]
     },
     "execution_count": 53,
     "metadata": {},
     "output_type": "execute_result"
    }
   ],
   "source": [
    "len(train_imgs)"
   ]
  }
 ],
 "metadata": {
  "kernelspec": {
   "display_name": "Python [conda env:DL]",
   "language": "python",
   "name": "conda-env-DL-py"
  },
  "language_info": {
   "codemirror_mode": {
    "name": "ipython",
    "version": 3
   },
   "file_extension": ".py",
   "mimetype": "text/x-python",
   "name": "python",
   "nbconvert_exporter": "python",
   "pygments_lexer": "ipython3",
   "version": "3.5.2"
  },
  "widgets": {
   "state": {},
   "version": "1.1.2"
  }
 },
 "nbformat": 4,
 "nbformat_minor": 2
}
